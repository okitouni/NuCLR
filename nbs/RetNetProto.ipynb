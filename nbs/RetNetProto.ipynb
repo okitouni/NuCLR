{
 "cells": [
  {
   "cell_type": "code",
   "execution_count": 3,
   "metadata": {},
   "outputs": [],
   "source": [
    "# Simplified RetNet implementation\n",
    "from nuclr.model import RetNet\n",
    "import torch\n",
    "from torch import nn\n",
    "from tqdm import trange"
   ]
  },
  {
   "cell_type": "code",
   "execution_count": 4,
   "metadata": {},
   "outputs": [
    {
     "ename": "TypeError",
     "evalue": "SwiGLU.__init__() got an unexpected keyword argument 'dim'",
     "output_type": "error",
     "traceback": [
      "\u001b[0;31m---------------------------------------------------------------------------\u001b[0m",
      "\u001b[0;31mTypeError\u001b[0m                                 Traceback (most recent call last)",
      "Cell \u001b[0;32mIn[4], line 20\u001b[0m\n\u001b[1;32m     17\u001b[0m         z \u001b[39m=\u001b[39m \u001b[39mself\u001b[39m\u001b[39m.\u001b[39mtransformer(embs)\u001b[39m.\u001b[39msum(dim\u001b[39m=\u001b[39m\u001b[39m1\u001b[39m)\n\u001b[1;32m     18\u001b[0m         \u001b[39mreturn\u001b[39;00m \u001b[39mself\u001b[39m\u001b[39m.\u001b[39mreadout(z)\n\u001b[0;32m---> 20\u001b[0m model \u001b[39m=\u001b[39m Model()\n\u001b[1;32m     22\u001b[0m optimizer \u001b[39m=\u001b[39m torch\u001b[39m.\u001b[39moptim\u001b[39m.\u001b[39mAdam(model\u001b[39m.\u001b[39mparameters(), lr\u001b[39m=\u001b[39m\u001b[39m1e-3\u001b[39m)\n\u001b[1;32m     23\u001b[0m scheduler \u001b[39m=\u001b[39m torch\u001b[39m.\u001b[39moptim\u001b[39m.\u001b[39mlr_scheduler\u001b[39m.\u001b[39mCosineAnnealingLR(optimizer, \u001b[39m10000\u001b[39m)\n",
      "Cell \u001b[0;32mIn[4], line 13\u001b[0m, in \u001b[0;36mModel.__init__\u001b[0;34m(self)\u001b[0m\n\u001b[1;32m     11\u001b[0m \u001b[39mself\u001b[39m\u001b[39m.\u001b[39membeddings \u001b[39m=\u001b[39m nn\u001b[39m.\u001b[39mEmbedding(n_embs, d_model)\n\u001b[1;32m     12\u001b[0m \u001b[39mself\u001b[39m\u001b[39m.\u001b[39mreadout \u001b[39m=\u001b[39m nn\u001b[39m.\u001b[39mLinear(d_model, \u001b[39m1\u001b[39m)\n\u001b[0;32m---> 13\u001b[0m \u001b[39mself\u001b[39m\u001b[39m.\u001b[39mtransformer \u001b[39m=\u001b[39m RetNet(d_model, n_heads\u001b[39m=\u001b[39;49mn_heads, num_layers\u001b[39m=\u001b[39;49mn_layers)\n",
      "File \u001b[0;32m/work/submit/kitouni/code/NuCLR/nuclr/model.py:32\u001b[0m, in \u001b[0;36mRetNet.__init__\u001b[0;34m(self, d_model, n_heads, num_layers)\u001b[0m\n\u001b[1;32m     29\u001b[0m \u001b[39mdef\u001b[39;00m \u001b[39m__init__\u001b[39m(\u001b[39mself\u001b[39m, d_model, n_heads\u001b[39m=\u001b[39m\u001b[39m1\u001b[39m, num_layers\u001b[39m=\u001b[39m\u001b[39m1\u001b[39m) \u001b[39m-\u001b[39m\u001b[39m>\u001b[39m \u001b[39mNone\u001b[39;00m:\n\u001b[1;32m     30\u001b[0m     \u001b[39msuper\u001b[39m()\u001b[39m.\u001b[39m\u001b[39m__init__\u001b[39m()\n\u001b[1;32m     31\u001b[0m     \u001b[39mself\u001b[39m\u001b[39m.\u001b[39mlayers \u001b[39m=\u001b[39m nn\u001b[39m.\u001b[39mModuleList(\n\u001b[0;32m---> 32\u001b[0m         [RetBlock(d_model, n_heads\u001b[39m=\u001b[39mn_heads) \u001b[39mfor\u001b[39;00m _ \u001b[39min\u001b[39;00m \u001b[39mrange\u001b[39m(num_layers)]\n\u001b[1;32m     33\u001b[0m     )\n",
      "File \u001b[0;32m/work/submit/kitouni/code/NuCLR/nuclr/model.py:32\u001b[0m, in \u001b[0;36m<listcomp>\u001b[0;34m(.0)\u001b[0m\n\u001b[1;32m     29\u001b[0m \u001b[39mdef\u001b[39;00m \u001b[39m__init__\u001b[39m(\u001b[39mself\u001b[39m, d_model, n_heads\u001b[39m=\u001b[39m\u001b[39m1\u001b[39m, num_layers\u001b[39m=\u001b[39m\u001b[39m1\u001b[39m) \u001b[39m-\u001b[39m\u001b[39m>\u001b[39m \u001b[39mNone\u001b[39;00m:\n\u001b[1;32m     30\u001b[0m     \u001b[39msuper\u001b[39m()\u001b[39m.\u001b[39m\u001b[39m__init__\u001b[39m()\n\u001b[1;32m     31\u001b[0m     \u001b[39mself\u001b[39m\u001b[39m.\u001b[39mlayers \u001b[39m=\u001b[39m nn\u001b[39m.\u001b[39mModuleList(\n\u001b[0;32m---> 32\u001b[0m         [RetBlock(d_model, n_heads\u001b[39m=\u001b[39;49mn_heads) \u001b[39mfor\u001b[39;00m _ \u001b[39min\u001b[39;00m \u001b[39mrange\u001b[39m(num_layers)]\n\u001b[1;32m     33\u001b[0m     )\n",
      "File \u001b[0;32m/work/submit/kitouni/code/NuCLR/nuclr/model.py:47\u001b[0m, in \u001b[0;36mRetBlock.__init__\u001b[0;34m(self, d_model, d_ff, n_heads)\u001b[0m\n\u001b[1;32m     45\u001b[0m \u001b[39mif\u001b[39;00m d_ff \u001b[39mis\u001b[39;00m \u001b[39mNone\u001b[39;00m:\n\u001b[1;32m     46\u001b[0m     d_ff \u001b[39m=\u001b[39m d_model \u001b[39m*\u001b[39m \u001b[39m2\u001b[39m\n\u001b[0;32m---> 47\u001b[0m \u001b[39mself\u001b[39m\u001b[39m.\u001b[39mmsr \u001b[39m=\u001b[39m MSR(d_model)\n\u001b[1;32m     48\u001b[0m \u001b[39mself\u001b[39m\u001b[39m.\u001b[39mffn \u001b[39m=\u001b[39m nn\u001b[39m.\u001b[39mSequential(\n\u001b[1;32m     49\u001b[0m     nn\u001b[39m.\u001b[39mLinear(d_model, d_ff), nn\u001b[39m.\u001b[39mGELU(), nn\u001b[39m.\u001b[39mLinear(d_ff, d_model)\n\u001b[1;32m     50\u001b[0m )\n\u001b[1;32m     51\u001b[0m \u001b[39mself\u001b[39m\u001b[39m.\u001b[39mnorm \u001b[39m=\u001b[39m nn\u001b[39m.\u001b[39mLayerNorm(d_model)\n",
      "File \u001b[0;32m/work/submit/kitouni/code/NuCLR/nuclr/model.py:64\u001b[0m, in \u001b[0;36mMSR.__init__\u001b[0;34m(self, d_model, n_heads)\u001b[0m\n\u001b[1;32m     61\u001b[0m \u001b[39msuper\u001b[39m()\u001b[39m.\u001b[39m\u001b[39m__init__\u001b[39m()\n\u001b[1;32m     62\u001b[0m \u001b[39mself\u001b[39m\u001b[39m.\u001b[39mret \u001b[39m=\u001b[39m Retention(d_model)\n\u001b[1;32m     63\u001b[0m \u001b[39mself\u001b[39m\u001b[39m.\u001b[39mffn \u001b[39m=\u001b[39m nn\u001b[39m.\u001b[39mSequential(\n\u001b[0;32m---> 64\u001b[0m     nn\u001b[39m.\u001b[39mLinear(d_model, d_model \u001b[39m*\u001b[39m \u001b[39m2\u001b[39m), SwiGLU(dim\u001b[39m=\u001b[39;49m\u001b[39m-\u001b[39;49m\u001b[39m1\u001b[39;49m), nn\u001b[39m.\u001b[39mLinear(d_model, d_model)\n\u001b[1;32m     65\u001b[0m )\n\u001b[1;32m     66\u001b[0m \u001b[39mself\u001b[39m\u001b[39m.\u001b[39mnorm \u001b[39m=\u001b[39m nn\u001b[39m.\u001b[39mGroupNorm(n_heads, d_model)\n",
      "\u001b[0;31mTypeError\u001b[0m: SwiGLU.__init__() got an unexpected keyword argument 'dim'"
     ]
    }
   ],
   "source": [
    "# unit test for RetNet\n",
    "# count the number of elements in a sequence\n",
    "n_embs = 2\n",
    "d_model = 4\n",
    "n_heads = 1\n",
    "n_layers = 2\n",
    "\n",
    "class Model(nn.Module):\n",
    "    def __init__(self) -> None:\n",
    "        super().__init__()\n",
    "        self.embeddings = nn.Embedding(n_embs, d_model)\n",
    "        self.readout = nn.Linear(d_model, 1)\n",
    "        self.transformer = RetNet(d_model, n_heads=n_heads, num_layers=n_layers)\n",
    "        \n",
    "    def forward(self, x):\n",
    "        embs = self.embeddings(x)\n",
    "        z = self.transformer(embs).sum(dim=1)\n",
    "        return self.readout(z)\n",
    "\n",
    "model = Model()\n",
    "\n",
    "optimizer = torch.optim.Adam(model.parameters(), lr=1e-3)\n",
    "scheduler = torch.optim.lr_scheduler.CosineAnnealingLR(optimizer, 10000)\n",
    "\n",
    "for _ in (pbar:=trange(10000)):\n",
    "    x = torch.randint(0, n_embs, (32, 10))\n",
    "    y = x.sum(dim=-1, keepdim=True).float()\n",
    "    output = model(x)\n",
    "    loss = (output - y).pow(2).mean()\n",
    "    loss.backward()\n",
    "    optimizer.step()\n",
    "    optimizer.zero_grad()\n",
    "    pbar.set_description(f\"loss: {loss.item():.2e}\")"
   ]
  },
  {
   "cell_type": "code",
   "execution_count": null,
   "metadata": {},
   "outputs": [],
   "source": []
  }
 ],
 "metadata": {
  "kernelspec": {
   "display_name": "sandbox",
   "language": "python",
   "name": "python3"
  },
  "language_info": {
   "codemirror_mode": {
    "name": "ipython",
    "version": 3
   },
   "file_extension": ".py",
   "mimetype": "text/x-python",
   "name": "python",
   "nbconvert_exporter": "python",
   "pygments_lexer": "ipython3",
   "version": "3.10.11"
  },
  "orig_nbformat": 4
 },
 "nbformat": 4,
 "nbformat_minor": 2
}
