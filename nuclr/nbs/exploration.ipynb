{
 "cells": [
  {
   "cell_type": "code",
   "execution_count": 50,
   "metadata": {},
   "outputs": [],
   "source": [
    "import torch\n",
    "from nuclr.data import prepare_nuclear_data\n",
    "from nuclr.config import config, datadir\n",
    "from nuclr.loss import loss_by_task, metric_by_task\n",
    "from nuclr.model import NuCLRWrapper\n",
    "from nuclr.tensor_dict import TensorDict, Fields\n",
    "import tqdm"
   ]
  },
  {
   "cell_type": "code",
   "execution_count": 51,
   "metadata": {},
   "outputs": [],
   "source": [
    "data = prepare_nuclear_data(config)"
   ]
  },
  {
   "cell_type": "code",
   "execution_count": 52,
   "metadata": {},
   "outputs": [],
   "source": [
    "tensor_dict_train = data.tensor_dict.iloc[data.train_mask]\n",
    "\n",
    "input_fields = {\"n\", \"z\"}\n",
    "output_fields = set(data.all_fields.keys()) - input_fields\n",
    "output_dim = sum(data.all_fields[field] for field in output_fields)\n",
    "\n",
    "fields = Fields({\"numerical\": list(output_fields), \"categorical\": []})"
   ]
  },
  {
   "cell_type": "code",
   "execution_count": 53,
   "metadata": {},
   "outputs": [],
   "source": [
    "d_model = 32\n",
    "torch.manual_seed(0)\n",
    "model = torch.nn.Sequential(\n",
    "    torch.nn.Embedding(sum(data.vocab_size), d_model),\n",
    "    torch.nn.Flatten(),\n",
    "    torch.nn.Linear(d_model * 2, d_model),\n",
    "    torch.nn.ReLU(),\n",
    "    torch.nn.Linear(d_model, d_model),\n",
    "    torch.nn.ReLU(),\n",
    "    torch.nn.Linear(d_model,output_dim),\n",
    ").to(config.DEV)\n",
    "\n",
    "model = NuCLRWrapper(model, fields)\n",
    "\n",
    "optimizer = torch.optim.AdamW(model.parameters(), lr=1e-3, weight_decay=1e-3)"
   ]
  },
  {
   "cell_type": "code",
   "execution_count": 54,
   "metadata": {},
   "outputs": [
    {
     "data": {
      "text/plain": [
       "{'binding': tensor([[0.0491],\n",
       "         [0.1560],\n",
       "         [0.0769],\n",
       "         ...,\n",
       "         [0.1017],\n",
       "         [0.0494],\n",
       "         [0.0865]], device='cuda:0', grad_fn=<IndexBackward0>),\n",
       " 'radius': tensor([[-0.1396],\n",
       "         [-0.1617],\n",
       "         [-0.1614],\n",
       "         ...,\n",
       "         [-0.1387],\n",
       "         [-0.1705],\n",
       "         [ 0.0028]], device='cuda:0', grad_fn=<IndexBackward0>)}"
      ]
     },
     "execution_count": 54,
     "metadata": {},
     "output_type": "execute_result"
    }
   ],
   "source": [
    "model(tensor_dict_train[[\"n\", \"z\"]])"
   ]
  },
  {
   "cell_type": "code",
   "execution_count": 55,
   "metadata": {},
   "outputs": [
    {
     "name": "stdout",
     "output_type": "stream",
     "text": [
      "{'binding': tensor(249493.2275, dtype=torch.float64), 'radius': tensor(2.5290, dtype=torch.float64)}\n"
     ]
    }
   ],
   "source": [
    "prediction = model(tensor_dict_train[[\"n\", \"z\"]])\n",
    "print(metric_by_task(prediction, tensor_dict_train, data.regression_transformers))"
   ]
  },
  {
   "cell_type": "code",
   "execution_count": 56,
   "metadata": {},
   "outputs": [
    {
     "name": "stderr",
     "output_type": "stream",
     "text": [
      "  0%|          | 0/20000 [00:00<?, ?it/s]\n"
     ]
    },
    {
     "ename": "NameError",
     "evalue": "name 'X' is not defined",
     "output_type": "error",
     "traceback": [
      "\u001b[0;31m---------------------------------------------------------------------------\u001b[0m",
      "\u001b[0;31mNameError\u001b[0m                                 Traceback (most recent call last)",
      "Cell \u001b[0;32mIn[56], line 3\u001b[0m\n\u001b[1;32m      1\u001b[0m \u001b[39mfor\u001b[39;00m i \u001b[39min\u001b[39;00m (pbar\u001b[39m:=\u001b[39mtqdm\u001b[39m.\u001b[39mtrange(\u001b[39m20000\u001b[39m)):\n\u001b[1;32m      2\u001b[0m     optimizer\u001b[39m.\u001b[39mzero_grad()\n\u001b[0;32m----> 3\u001b[0m     losses \u001b[39m=\u001b[39m (model(X) \u001b[39m-\u001b[39m y) \u001b[39m*\u001b[39m\u001b[39m*\u001b[39m \u001b[39m2\u001b[39m\n\u001b[1;32m      4\u001b[0m     loss \u001b[39m=\u001b[39m losses\u001b[39m.\u001b[39mmean()\n\u001b[1;32m      5\u001b[0m     loss\u001b[39m.\u001b[39mbackward()\n",
      "\u001b[0;31mNameError\u001b[0m: name 'X' is not defined"
     ]
    }
   ],
   "source": [
    "for i in (pbar:=tqdm.trange(20000)):\n",
    "    optimizer.zero_grad()\n",
    "    losses = (model(X) - y) ** 2\n",
    "    loss = losses.mean()\n",
    "    loss.backward()\n",
    "    optimizer.step()\n",
    "    pbar.set_description(\"Loss: {:.4f}\".format(loss.item()))\n",
    "    "
   ]
  }
 ],
 "metadata": {
  "kernelspec": {
   "display_name": "sandbox",
   "language": "python",
   "name": "python3"
  },
  "language_info": {
   "codemirror_mode": {
    "name": "ipython",
    "version": 3
   },
   "file_extension": ".py",
   "mimetype": "text/x-python",
   "name": "python",
   "nbconvert_exporter": "python",
   "pygments_lexer": "ipython3",
   "version": "3.10.11"
  },
  "orig_nbformat": 4
 },
 "nbformat": 4,
 "nbformat_minor": 2
}
