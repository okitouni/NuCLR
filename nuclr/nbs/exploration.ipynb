{
 "cells": [
  {
   "cell_type": "code",
   "execution_count": 2,
   "metadata": {},
   "outputs": [],
   "source": [
    "import torch\n",
    "from nuclr.data import prepare_nuclear_data\n",
    "from nuclr.config import config\n",
    "import tqdm"
   ]
  },
  {
   "cell_type": "code",
   "execution_count": 3,
   "metadata": {},
   "outputs": [],
   "source": [
    "data = prepare_nuclear_data(config)"
   ]
  },
  {
   "cell_type": "code",
   "execution_count": 5,
   "metadata": {},
   "outputs": [],
   "source": [
    "X = data.X.clone()\n",
    "X[:, 1:] += data.vocab_size[0]\n",
    "X[:, 2:] += data.vocab_size[1]\n",
    "y = data.y"
   ]
  },
  {
   "cell_type": "code",
   "execution_count": 61,
   "metadata": {},
   "outputs": [],
   "source": [
    "d_model = 32\n",
    "torch.manual_seed(0)\n",
    "model = torch.nn.Sequential(\n",
    "    torch.nn.Embedding(sum(data.vocab_size), d_model),\n",
    "    torch.nn.Flatten(),\n",
    "    torch.nn.Linear(d_model * 3, d_model),\n",
    "    torch.nn.ReLU(),\n",
    "    torch.nn.Linear(d_model, d_model),\n",
    "    torch.nn.ReLU(),\n",
    "    torch.nn.Linear(d_model, 1),\n",
    ").to(config.DEV)"
   ]
  },
  {
   "cell_type": "code",
   "execution_count": 62,
   "metadata": {},
   "outputs": [
    {
     "name": "stderr",
     "output_type": "stream",
     "text": [
      "Loss: nan: 100%|██████████| 2/2 [00:00<00:00, 183.31it/s]"
     ]
    },
    {
     "name": "stdout",
     "output_type": "stream",
     "text": [
      "masked tensor([0.2387, 0.2045, 0.0246,  ..., 0.1680, 0.1131, 0.0888], device='cuda:0',\n",
      "       grad_fn=<IndexBackward0>)\n",
      "loss tensor(0.3227, device='cuda:0', grad_fn=<MeanBackward0>)\n",
      "grad tensor([[0., 0., 0.,  ..., 0., 0., 0.],\n",
      "        [0., 0., 0.,  ..., 0., 0., 0.],\n",
      "        [0., 0., 0.,  ..., 0., 0., 0.],\n",
      "        ...,\n",
      "        [nan, nan, nan,  ..., nan, nan, nan],\n",
      "        [nan, nan, nan,  ..., nan, nan, nan],\n",
      "        [nan, nan, nan,  ..., nan, nan, nan]], device='cuda:0')\n",
      "masked tensor([nan, nan, nan,  ..., nan, nan, nan], device='cuda:0',\n",
      "       grad_fn=<IndexBackward0>)\n",
      "loss tensor(nan, device='cuda:0', grad_fn=<MeanBackward0>)\n",
      "grad tensor([[0., 0., 0.,  ..., 0., 0., 0.],\n",
      "        [0., 0., 0.,  ..., 0., 0., 0.],\n",
      "        [0., 0., 0.,  ..., 0., 0., 0.],\n",
      "        ...,\n",
      "        [nan, nan, nan,  ..., nan, nan, nan],\n",
      "        [nan, nan, nan,  ..., nan, nan, nan],\n",
      "        [nan, nan, nan,  ..., nan, nan, nan]], device='cuda:0')\n"
     ]
    },
    {
     "name": "stderr",
     "output_type": "stream",
     "text": [
      "\n"
     ]
    }
   ],
   "source": [
    "optimizer = torch.optim.Adam(model.parameters(), lr=1e-2)\n",
    "mask = ~y.isnan()\n",
    "\n",
    "for i in (pbar:=tqdm.trange(2)):\n",
    "    optimizer.zero_grad()\n",
    "    loss = (model(X) - y) ** 2\n",
    "    loss = loss[mask]\n",
    "    print(\"masked\", loss)\n",
    "    loss = loss.mean()\n",
    "    print(\"loss\", loss)\n",
    "    loss.backward()\n",
    "    print(\"grad\", model[0].weight.grad)\n",
    "    optimizer.step()\n",
    "    pbar.set_description(\"Loss: {:.4f}\".format(loss.item()))"
   ]
  },
  {
   "cell_type": "code",
   "execution_count": null,
   "metadata": {},
   "outputs": [],
   "source": []
  }
 ],
 "metadata": {
  "kernelspec": {
   "display_name": "sandbox",
   "language": "python",
   "name": "python3"
  },
  "language_info": {
   "codemirror_mode": {
    "name": "ipython",
    "version": 3
   },
   "file_extension": ".py",
   "mimetype": "text/x-python",
   "name": "python",
   "nbconvert_exporter": "python",
   "pygments_lexer": "ipython3",
   "version": "3.10.11"
  },
  "orig_nbformat": 4
 },
 "nbformat": 4,
 "nbformat_minor": 2
}
